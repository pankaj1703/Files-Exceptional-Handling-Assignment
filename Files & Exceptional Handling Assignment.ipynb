{
 "cells": [
  {
   "cell_type": "raw",
   "id": "cb3cdbc1-d7cb-4c40-bf04-d811d4dbd122",
   "metadata": {},
   "source": [
    "1. Discuss the scenarios where multithreading is preferable to multiprocessing and scenarios where\n",
    "multiprocessing is a better choice."
   ]
  },
  {
   "cell_type": "raw",
   "id": "f1e66df4-219d-42c9-ad88-620e2d01cd0c",
   "metadata": {},
   "source": [
    "Answer:-"
   ]
  },
  {
   "cell_type": "raw",
   "id": "ca39c5e6-b797-4259-a8b4-d78e64c730eb",
   "metadata": {},
   "source": [
    " * Scenarios Where Multithreading is Preferable\n",
    "Multithreading involves running multiple threads within the same process. Threads share the same memory space, which makes it lightweight in terms of system resource usage and more efficient for certain types of tasks.\n",
    "\n",
    "i) I/O-bound Tasks (e.g., file reading/writing, network requests):\n",
    "\n",
    "Reason: Threads can be effectively used for I/O-bound operations where the program spends a lot of time waiting for external systems (e.g., disk or network) rather than performing heavy computations. While one thread is waiting for I/O operations to complete, other threads can continue executing, improving overall program efficiency.\n",
    "Examples: Web scraping, database queries, handling multiple network connections, reading/writing files.\n",
    "\n",
    " ii)Shared Memory Use Case:\n",
    "Reason: In multithreading, threads share the same memory space. This can be an advantage when you need to share data between threads without the overhead of inter-process communication (IPC) mechanisms. Threading is better when tasks need to frequently communicate or share state.\n",
    "Examples: Real-time applications where multiple threads must access and update shared data, like in games or simulations with shared global state.\n",
    "\n",
    "iii)Low Overhead in Resource Usage:\n",
    "Reason: Threads are more lightweight compared to processes since they share the same memory space and are managed within a single process. This makes creating and destroying threads faster and less resource-intensive than managing processes.\n",
    "Examples: GUI applications (e.g., updating the user interface while doing background work), server applications handling multiple client connections.\n",
    "\n",
    "iv)Tasks That Do Not Require Heavy CPU Usage:\n",
    "Reason: If the workload involves relatively light computations, such as updating UI elements, handling a large number of small tasks concurrently, or waiting on multiple events, multithreading can be a more efficient approach than multiprocessing.\n",
    "Examples: Desktop applications, interactive applications with small background tasks.\n",
    "\n",
    "*Scenarios Where Multiprocessing is Preferable:\n",
    "Multiprocessing involves running multiple processes, each with its own memory space. This approach is better suited for CPU-bound tasks where performance is hindered by the Global Interpreter Lock (GIL) in languages like Python or when tasks need to be isolated from each other.\n",
    "\n",
    "i)CPU-bound Tasks (e.g., heavy computation, data processing):\n",
    "Reason: Multiprocessing is ideal when the tasks are computationally intensive and can be parallelized. Since processes have separate memory spaces, the performance hit from the GIL (in Python) is avoided. Each process can run on a different CPU core, making it ideal for tasks that need to use the full power of the CPU.\n",
    "Examples: Image processing, data analysis, scientific simulations, machine learning model training, encryption.\n",
    "\n",
    "ii)Avoiding the Global Interpreter Lock (GIL):\n",
    "Reason: In Python, the GIL prevents multiple threads from executing Python bytecode simultaneously in a single process. This makes threading inefficient for CPU-bound tasks. Multiprocessing, on the other hand, bypasses the GIL by running each process in its own memory space, allowing true parallel execution across multiple CPU cores.\n",
    "Examples: Numerical computations, matrix operations, any task that involves heavy calculations that can be parallelized.\n",
    "\n",
    "iii)Memory Isolation:\n",
    "Reason: Processes are completely isolated from each other and do not share memory. This isolation can be important for tasks where data security or fault tolerance is critical. For instance, if one process crashes, it does not affect the others, unlike threads which share the same memory space.\n",
    "Examples: Running independent services, such as microservices, or handling tasks in a sandboxed manner to prevent a crash in one task from affecting others.\n",
    "\n",
    "iv)Scalability on Multi-core Systems:\n",
    "Reason: Multiprocessing can leverage multiple cores of the CPU more effectively than multithreading because each process runs independently, and the operating system can assign each process to a separate core.\n",
    "Examples: Large-scale data processing pipelines, batch processing, or rendering tasks.\n",
    "\n",
    "v)Fault Tolerance and Stability:\n",
    "Reason: Processes are isolated, so if one process crashes, it won’t bring down the entire application, which is not the case with threads, as a crash in one thread may compromise the entire process."
   ]
  },
  {
   "cell_type": "raw",
   "id": "b124ddf1-d01a-4f71-8670-abe179e876ce",
   "metadata": {},
   "source": [
    "2. Describe what a process pool is and how it helps in managing multiple processes efficiently"
   ]
  },
  {
   "cell_type": "raw",
   "id": "d940afaa-ba7e-4c45-9093-9d783c07ad70",
   "metadata": {},
   "source": [
    "Answer:-"
   ]
  },
  {
   "cell_type": "raw",
   "id": "b1251ce4-6de5-41f2-a062-f2a10c5bfc28",
   "metadata": {},
   "source": [
    "*Key Characteristics of a Process Pool:\n",
    "i) Pre-allocated Workers: A process pool maintains a fixed number of worker processes. When a task needs to be executed, one of the idle workers is assigned to it.\n",
    "\n",
    "ii) Task Queue: Tasks are placed in a queue and are distributed to the available workers in the pool. The workers pick tasks as soon as they are idle.\n",
    "\n",
    "iii) Efficient Resource Management: Instead of constantly creating new processes, which is resource-intensive and time-consuming, a pool reuses existing processes. This reduces the overhead of process creation and destruction, improving efficiency.\n",
    "\n",
    "iv) Concurrency: The process pool allows for parallel execution of tasks, where multiple processes can run simultaneously, leveraging multiple cores or processors. This can significantly speed up tasks that can be parallelized.\n",
    "\n",
    "* How It Helps in Managing Multiple Processes Efficiently:\n",
    "i) Reduced Overhead: Creating a new process for each task can be slow and resource-heavy, particularly in environments with high task frequency. By reusing processes from the pool, you avoid the overhead of process creation and termination.\n",
    "\n",
    "ii) Better Resource Utilization: A process pool ensures that the system's available CPU cores are utilized efficiently. If you create too many processes, it could lead to CPU contention, but with a fixed pool size, the number of concurrent processes is controlled, preventing resource overuse.\n",
    "\n",
    "iii) Task Distribution: The pool takes care of task distribution, ensuring that work is allocated to available workers, often balancing the load evenly and avoiding situations where some processes are idle while others are overwhelmed.\n",
    "\n",
    "iv) Simplified Code: Instead of manually managing individual processes, developers can use a pool to abstract away the complexities of process creation, synchronization, and communication. This results in cleaner and more maintainable code."
   ]
  },
  {
   "cell_type": "raw",
   "id": "4f2b36c8-fe93-4be5-984f-19edb0e1ea1c",
   "metadata": {},
   "source": [
    "3. Explain what multiprocessing is and why it is used in Python programs"
   ]
  },
  {
   "cell_type": "code",
   "execution_count": null,
   "id": "3898643c-0ed1-4993-9267-428bbfb5cfb9",
   "metadata": {},
   "outputs": [],
   "source": [
    "Answer:-"
   ]
  },
  {
   "cell_type": "code",
   "execution_count": null,
   "id": "6a9d587f-e41c-49ef-929f-96c75002333c",
   "metadata": {},
   "outputs": [],
   "source": [
    "import multiprocessing\n",
    "\n",
    "def print_cube(num):\n",
    "    \"function to print cube of given num \"\n",
    "    print(\"Cube: {}\".format(num * num * num))\n",
    "\n",
    "def print_square(num):\n",
    "    \"function to print square of given num\"\n",
    "    print(\"Square: {}\".format(num * num))\n",
    "\n",
    "if __name__ == \"__main__\":\n",
    "    p1 = multiprocessing.Process(target=print_square, args=(10, ))\n",
    "    p2 = multiprocessing.Process(target=print_cube, args=(10, ))\n",
    "\n",
    "    p1.start()\n",
    "    p2.start()\n",
    "\n",
    "    p1.join()\n",
    "    p2.join()\n",
    "\n",
    "    print(\"Done!\")"
   ]
  },
  {
   "cell_type": "raw",
   "id": "89aaf509-b5b2-422a-a211-202bcb280b5c",
   "metadata": {},
   "source": [
    "4. Write a Python program using multithreading where one thread adds numbers to a list, and another\n",
    "thread removes numbers from the list. Implement a mechanism to avoid race conditions using\n",
    "threading.Lock."
   ]
  },
  {
   "cell_type": "code",
   "execution_count": null,
   "id": "78a3d54a-03e1-4241-ae18-ef77811259ab",
   "metadata": {},
   "outputs": [],
   "source": [
    "Answer:-"
   ]
  },
  {
   "cell_type": "code",
   "execution_count": null,
   "id": "1301a450-08ca-428f-8bfc-1b82375ea901",
   "metadata": {},
   "outputs": [],
   "source": [
    "import threading\n",
    "import time\n",
    "\n",
    "shared_list = []\n",
    "list_lock = threading.Lock()\n",
    "\n",
    "def add_numbers():\n",
    "    for i in range(10):\n",
    "        time.sleep(1)  \n",
    "        with list_lock:\n",
    "            shared_list.append(i)\n",
    "            print(f\"Added {i} to the list. List now: {shared_list}\")\n",
    "\n",
    "def remove_numbers():\n",
    "    for _ in range(10):\n",
    "        time.sleep(2)  \n",
    "        with list_lock:\n",
    "            if shared_list:\n",
    "                removed = shared_list.pop(0)\n",
    "                print(f\"Removed {removed} from the list. List now: {shared_list}\")\n",
    "            else:\n",
    "                print(\"List is empty, cannot remove!\")\n",
    "\n",
    "add_thread = threading.Thread(target=add_numbers)\n",
    "remove_thread = threading.Thread(target=remove_numbers)\n",
    "\n",
    "add_thread.start()\n",
    "remove_thread.start()\n",
    "\n",
    "add_thread.join()\n",
    "remove_thread.join()\n",
    "\n",
    "print(\"Final list:\", shared_list)"
   ]
  },
  {
   "cell_type": "raw",
   "id": "951d4024-70a8-450b-b992-d79df86708c5",
   "metadata": {},
   "source": [
    "5. Describe the methods and tools available in Python for safely sharing data between threads and\n",
    "processes."
   ]
  },
  {
   "cell_type": "code",
   "execution_count": null,
   "id": "d35dff25-7ae4-4ab1-ac18-571ffcbd6f97",
   "metadata": {},
   "outputs": [],
   "source": [
    "Answer:-"
   ]
  },
  {
   "cell_type": "raw",
   "id": "bb176335-25df-49a7-85c7-9e104bc711fa",
   "metadata": {},
   "source": [
    "1. Sharing Data Between Threads\n",
    "Threads in Python share the same memory space, so sharing data between threads is relatively straightforward, but it also requires synchronization to avoid race conditions.\n",
    "\n",
    "i) Locks (threading.Lock)\n",
    "A Lock is the most common synchronization primitive. A lock ensures that only one thread can access a critical section of code or shared resource at a time.\n",
    "\n",
    "Usage:\n",
    "Acquire the lock before accessing shared data.\n",
    "Release the lock when done.\n",
    "\n",
    "ii) RLocks (threading.RLock)\n",
    "A RLock (reentrant lock) is similar to a Lock, but it allows a thread to acquire the lock multiple times. This is useful when a thread needs to lock the resource within recursive function calls.\n",
    "\n",
    "iii) Condition Variables (threading.Condition)\n",
    "Condition variables allow threads to wait for certain conditions to occur and are often used for thread synchronization where threads need to wait for some event to happen before proceeding.\n",
    "\n",
    "Usage:\n",
    "One thread can notify others when a condition is met using notify() or notify_all().\n",
    "Other threads can wait for the condition with wait().\n",
    "\n",
    "iv) Queues (queue.Queue)\n",
    "The queue.Queue class in Python provides thread-safe FIFO queues for sharing data between threads. The queue itself handles locking, so threads can safely enqueue and dequeue iteiv) \n",
    "\n",
    "2. Sharing Data Between Processes\n",
    "Since processes have their own memory space (due to the Global Interpreter Lock, or GIL, not affecting them), data cannot be shared directly between processes. Python provides tools in the multiprocessing module for safe inter-process communication.\n",
    "\n",
    "i) Shared Memory (multiprocessing.Value and multiprocessing.Array)\n",
    "multiprocessing.Value and multiprocessing.Array provide shared memory objects that can be used to share data between processes. These objects are mutable and can be used for atomic operations.\n",
    "\n",
    "Usage:\n",
    "Value is for single values (like integers or floats).\n",
    "Array is for arrays of data.\n",
    "\n",
    " ii) Manager Objects (multiprocessing.Manager)\n",
    "Managers allow the creation of complex data types (like lists, dictionaries, etc.) that can be shared between processes. A manager provides a proxy for these objects and ensures safe access across processes.\n",
    "\n",
    "iii) Queues (multiprocessing.Queue)\n",
    "multiprocessing.Queue is a thread- and process-safe queue that can be used to pass messages or data between processes. It works in a similar way to queue.Queue, but is designed for multi-process communication.\n",
    "\n",
    "iv) Pipes (multiprocessing.Pipe)\n",
    "Pipe provides a two-way communication channel between two processes. It is used for direct communication where two processes exchange data using send() and recv() methods."
   ]
  },
  {
   "cell_type": "raw",
   "id": "73dd221c-8952-4ff1-a05d-741ad6dda2c3",
   "metadata": {},
   "source": [
    "6. Discuss why it’s crucial to handle exceptions in concurrent programs and the techniques available for\n",
    "doing so"
   ]
  },
  {
   "cell_type": "code",
   "execution_count": null,
   "id": "b3fcab34-e73d-4c37-970c-7fcfed92ca9b",
   "metadata": {},
   "outputs": [],
   "source": [
    "Answer:-"
   ]
  },
  {
   "cell_type": "raw",
   "id": "d81fd9b0-45ce-4c35-8e02-df5d336a6495",
   "metadata": {},
   "source": [
    "Why It's Crucial:\n",
    "i) Uncaught Exceptions Can Crash the Program: In multi-threaded or multi-process environments, an uncaught exception in one thread or process can propagate and cause crashes, affecting other threads/processes or the entire application.\n",
    "\n",
    "ii)Resource Management: In concurrent programs, resources such as memory, files, and database connections need to be properly managed. Unhandled exceptions might cause these resources to remain open or in a bad state.\n",
    "\n",
    "iii)Synchronization Issues: Threads or processes waiting on a resource or condition may get stuck if an exception occurs and isn't handled, leading to deadlocks or missed signals.\n",
    "\n",
    "Techniques for Handling Exceptions in Concurrent Programs:\n",
    "1. Using Try-Except Blocks in Threads/Processes\n",
    "For each thread or process, you can catch exceptions locally using try-except blocks to prevent failure from propagating.\n",
    "\n",
    "2. Threading Event or Queue for Reporting Errors\n",
    "Threads can use a shared Queue or Event to report exceptions back to the main thread. The main thread can then handle these exceptions appropriately.\n",
    "\n",
    "3. Using concurrent.futures for Threading/Multiprocessing\n",
    "The concurrent.futures module simplifies exception handling for concurrent programs. With ThreadPoolExecutor or ProcessPoolExecutor, exceptions raised within worker threads or processes are re-raised when calling result() or wait() on futures, making it easy to handle them.\n",
    "\n",
    "4. Daemon Threads and Handling Termination\n",
    "For long-running concurrent programs, daemon threads can be used. These threads automatically exit when the main program finishes. Handling exceptions in these threads is crucial, as the main program might terminate without waiting for daemon threads to clean up properly.\n",
    "\n",
    "5. Process Pools and Pool.apply_async\n",
    "For multiprocessing, Pool.apply_async allows handling exceptions raised in child processes. You can capture exceptions by passing a callback function to the apply_async method that handles the result or exception."
   ]
  },
  {
   "cell_type": "raw",
   "id": "29f74054-0939-404b-a96f-289dc0b60c61",
   "metadata": {},
   "source": [
    "7. Create a program that uses a thread pool to calculate the factorial of numbers from 1 to 10 concurrently.\n",
    "Use concurrent.futures.ThreadPoolExecutor to manage the threads."
   ]
  },
  {
   "cell_type": "code",
   "execution_count": null,
   "id": "9d95cdbd-a8bf-4c10-aa12-06e702305d4b",
   "metadata": {},
   "outputs": [],
   "source": [
    "Answer:-"
   ]
  },
  {
   "cell_type": "code",
   "execution_count": null,
   "id": "6c2d4899-f5ab-4e78-b33d-fb28fbe488b5",
   "metadata": {},
   "outputs": [],
   "source": [
    "import concurrent.futures\n",
    "\n",
    "def factorial(n):\n",
    "    if n == 0 or n == 1:\n",
    "        return 1\n",
    "    result = 1\n",
    "    for i in range(2, n + 1):\n",
    "        result *= i\n",
    "    return result\n",
    "\n",
    "def main():\n",
    "    \n",
    "    with concurrent.futures.ThreadPoolExecutor(max_workers=4) as executor:\n",
    "\n",
    "        futures = [executor.submit(factorial, i) for i in range(1, 11)]\n",
    "        \n",
    "    \n",
    "        for future in concurrent.futures.as_completed(futures):\n",
    "\n",
    "            print(f\"Factorial of {futures.index(future) + 1} is {future.result()}\")\n",
    "\n",
    "if __name__ == '__main__':\n",
    "    main()\n"
   ]
  },
  {
   "cell_type": "raw",
   "id": "1febc1b2-60b1-4eab-9e3e-779ddb891bdb",
   "metadata": {},
   "source": [
    "8. Create a Python program that uses multiprocessing.Pool to compute the square of numbers from 1 to 10 in\n",
    "parallel. Measure the time taken to perform this computation using a pool of different sizes (e.g., 2, 4, 8\n",
    "processes)"
   ]
  },
  {
   "cell_type": "code",
   "execution_count": null,
   "id": "093acae2-c644-4225-8f01-23d194613ae5",
   "metadata": {},
   "outputs": [],
   "source": [
    "Answer:-"
   ]
  },
  {
   "cell_type": "code",
   "execution_count": null,
   "id": "d660625a-dbac-4061-bda9-0b3b061cd623",
   "metadata": {},
   "outputs": [],
   "source": [
    "import multiprocessing\n",
    "import time\n",
    "\n",
    "\n",
    "def square(x):\n",
    "    return x * x\n",
    "\n",
    "\n",
    "def compute_squares(pool_size):\n",
    "\n",
    "    with multiprocessing.Pool(pool_size) as pool:\n",
    "\n",
    "        result = pool.map(square, range(1, 11))\n",
    "    return result\n",
    "\n",
    "\n",
    "def main():\n",
    "    for pool_size in [2, 4, 8]:\n",
    "        start_time = time.time()\n",
    "        result = compute_squares(pool_size)\n",
    "        end_time = time.time()\n",
    "        \n",
    "        print(f\"\\nResults with pool size {pool_size}: {result}\")\n",
    "        print(f\"Time taken with pool size {pool_size}: {end_time - start_time:.\n"
   ]
  },
  {
   "cell_type": "code",
   "execution_count": null,
   "id": "1b78bf23-74d1-495a-b571-04ed6b9c1ac8",
   "metadata": {},
   "outputs": [],
   "source": []
  }
 ],
 "metadata": {
  "kernelspec": {
   "display_name": "Python 3 (ipykernel)",
   "language": "python",
   "name": "python3"
  },
  "language_info": {
   "codemirror_mode": {
    "name": "ipython",
    "version": 3
   },
   "file_extension": ".py",
   "mimetype": "text/x-python",
   "name": "python",
   "nbconvert_exporter": "python",
   "pygments_lexer": "ipython3",
   "version": "3.12.4"
  }
 },
 "nbformat": 4,
 "nbformat_minor": 5
}
